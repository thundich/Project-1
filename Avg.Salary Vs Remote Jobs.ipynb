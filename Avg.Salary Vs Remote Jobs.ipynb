{
 "cells": [
  {
   "cell_type": "code",
   "execution_count": 12,
   "id": "3b097b4c",
   "metadata": {},
   "outputs": [],
   "source": [
    "import pandas as pd\n",
    "import matplotlib.pyplot as plt\n",
    "import seaborn as sns\n",
    "import numpy as np\n",
    "import plotly.express as px\n",
    "import scipy.stats as st\n"
   ]
  },
  {
   "cell_type": "code",
   "execution_count": 13,
   "id": "f6fe7478",
   "metadata": {},
   "outputs": [
    {
     "data": {
      "text/html": [
       "<div>\n",
       "<style scoped>\n",
       "    .dataframe tbody tr th:only-of-type {\n",
       "        vertical-align: middle;\n",
       "    }\n",
       "\n",
       "    .dataframe tbody tr th {\n",
       "        vertical-align: top;\n",
       "    }\n",
       "\n",
       "    .dataframe thead th {\n",
       "        text-align: right;\n",
       "    }\n",
       "</style>\n",
       "<table border=\"1\" class=\"dataframe\">\n",
       "  <thead>\n",
       "    <tr style=\"text-align: right;\">\n",
       "      <th></th>\n",
       "      <th>work_year</th>\n",
       "      <th>experience_level</th>\n",
       "      <th>employment_type</th>\n",
       "      <th>job_title</th>\n",
       "      <th>salary</th>\n",
       "      <th>salary_currency</th>\n",
       "      <th>salary_in_usd</th>\n",
       "      <th>employee_residence</th>\n",
       "      <th>remote_ratio</th>\n",
       "      <th>company_location</th>\n",
       "      <th>company_size</th>\n",
       "    </tr>\n",
       "  </thead>\n",
       "  <tbody>\n",
       "    <tr>\n",
       "      <th>0</th>\n",
       "      <td>2023</td>\n",
       "      <td>SE</td>\n",
       "      <td>FT</td>\n",
       "      <td>Business Data Analyst</td>\n",
       "      <td>65000</td>\n",
       "      <td>GBP</td>\n",
       "      <td>79976</td>\n",
       "      <td>ES</td>\n",
       "      <td>100</td>\n",
       "      <td>GI</td>\n",
       "      <td>L</td>\n",
       "    </tr>\n",
       "    <tr>\n",
       "      <th>1</th>\n",
       "      <td>2023</td>\n",
       "      <td>SE</td>\n",
       "      <td>FT</td>\n",
       "      <td>Business Intelligence Analyst</td>\n",
       "      <td>115600</td>\n",
       "      <td>USD</td>\n",
       "      <td>115600</td>\n",
       "      <td>US</td>\n",
       "      <td>0</td>\n",
       "      <td>US</td>\n",
       "      <td>M</td>\n",
       "    </tr>\n",
       "    <tr>\n",
       "      <th>2</th>\n",
       "      <td>2023</td>\n",
       "      <td>SE</td>\n",
       "      <td>FT</td>\n",
       "      <td>Business Intelligence Analyst</td>\n",
       "      <td>79700</td>\n",
       "      <td>USD</td>\n",
       "      <td>79700</td>\n",
       "      <td>US</td>\n",
       "      <td>0</td>\n",
       "      <td>US</td>\n",
       "      <td>M</td>\n",
       "    </tr>\n",
       "    <tr>\n",
       "      <th>3</th>\n",
       "      <td>2023</td>\n",
       "      <td>EN</td>\n",
       "      <td>FT</td>\n",
       "      <td>Applied Scientist</td>\n",
       "      <td>281700</td>\n",
       "      <td>USD</td>\n",
       "      <td>281700</td>\n",
       "      <td>US</td>\n",
       "      <td>0</td>\n",
       "      <td>US</td>\n",
       "      <td>M</td>\n",
       "    </tr>\n",
       "    <tr>\n",
       "      <th>4</th>\n",
       "      <td>2023</td>\n",
       "      <td>EN</td>\n",
       "      <td>FT</td>\n",
       "      <td>Applied Scientist</td>\n",
       "      <td>141100</td>\n",
       "      <td>USD</td>\n",
       "      <td>141100</td>\n",
       "      <td>US</td>\n",
       "      <td>0</td>\n",
       "      <td>US</td>\n",
       "      <td>M</td>\n",
       "    </tr>\n",
       "  </tbody>\n",
       "</table>\n",
       "</div>"
      ],
      "text/plain": [
       "   work_year experience_level employment_type                      job_title  \\\n",
       "0       2023               SE              FT          Business Data Analyst   \n",
       "1       2023               SE              FT  Business Intelligence Analyst   \n",
       "2       2023               SE              FT  Business Intelligence Analyst   \n",
       "3       2023               EN              FT              Applied Scientist   \n",
       "4       2023               EN              FT              Applied Scientist   \n",
       "\n",
       "   salary salary_currency  salary_in_usd employee_residence  remote_ratio  \\\n",
       "0   65000             GBP          79976                 ES           100   \n",
       "1  115600             USD         115600                 US             0   \n",
       "2   79700             USD          79700                 US             0   \n",
       "3  281700             USD         281700                 US             0   \n",
       "4  141100             USD         141100                 US             0   \n",
       "\n",
       "  company_location company_size  \n",
       "0               GI            L  \n",
       "1               US            M  \n",
       "2               US            M  \n",
       "3               US            M  \n",
       "4               US            M  "
      ]
     },
     "execution_count": 13,
     "metadata": {},
     "output_type": "execute_result"
    }
   ],
   "source": [
    "#Import Files\n",
    "data=pd.read_csv('D:/MSU DATA/Project1/salaries.csv')\n",
    "data.head()\n"
   ]
  },
  {
   "cell_type": "code",
   "execution_count": 14,
   "id": "435fb401",
   "metadata": {},
   "outputs": [
    {
     "name": "stdout",
     "output_type": "stream",
     "text": [
      "<class 'pandas.core.frame.DataFrame'>\n",
      "RangeIndex: 8270 entries, 0 to 8269\n",
      "Data columns (total 11 columns):\n",
      " #   Column              Non-Null Count  Dtype \n",
      "---  ------              --------------  ----- \n",
      " 0   work_year           8270 non-null   int64 \n",
      " 1   experience_level    8270 non-null   object\n",
      " 2   employment_type     8270 non-null   object\n",
      " 3   job_title           8270 non-null   object\n",
      " 4   salary              8270 non-null   int64 \n",
      " 5   salary_currency     8270 non-null   object\n",
      " 6   salary_in_usd       8270 non-null   int64 \n",
      " 7   employee_residence  8270 non-null   object\n",
      " 8   remote_ratio        8270 non-null   int64 \n",
      " 9   company_location    8270 non-null   object\n",
      " 10  company_size        8270 non-null   object\n",
      "dtypes: int64(4), object(7)\n",
      "memory usage: 710.8+ KB\n"
     ]
    }
   ],
   "source": [
    "data.info()"
   ]
  },
  {
   "cell_type": "code",
   "execution_count": 15,
   "id": "7600b4ea",
   "metadata": {},
   "outputs": [
    {
     "name": "stderr",
     "output_type": "stream",
     "text": [
      "C:\\Users\\Swati\\AppData\\Local\\Temp\\ipykernel_5140\\3913442522.py:2: FutureWarning: The default value of numeric_only in DataFrameGroupBy.mean is deprecated. In a future version, numeric_only will default to False. Either specify numeric_only or select only columns which should be valid for the function.\n",
      "  rem=data.groupby('remote_ratio').mean()['salary_in_usd'].reset_index()\n"
     ]
    },
    {
     "data": {
      "text/html": [
       "<div>\n",
       "<style scoped>\n",
       "    .dataframe tbody tr th:only-of-type {\n",
       "        vertical-align: middle;\n",
       "    }\n",
       "\n",
       "    .dataframe tbody tr th {\n",
       "        vertical-align: top;\n",
       "    }\n",
       "\n",
       "    .dataframe thead th {\n",
       "        text-align: right;\n",
       "    }\n",
       "</style>\n",
       "<table border=\"1\" class=\"dataframe\">\n",
       "  <thead>\n",
       "    <tr style=\"text-align: right;\">\n",
       "      <th></th>\n",
       "      <th>remote_ratio</th>\n",
       "      <th>salary_in_usd</th>\n",
       "    </tr>\n",
       "  </thead>\n",
       "  <tbody>\n",
       "    <tr>\n",
       "      <th>0</th>\n",
       "      <td>0</td>\n",
       "      <td>155707.497851</td>\n",
       "    </tr>\n",
       "    <tr>\n",
       "      <th>2</th>\n",
       "      <td>100</td>\n",
       "      <td>144128.597222</td>\n",
       "    </tr>\n",
       "    <tr>\n",
       "      <th>1</th>\n",
       "      <td>50</td>\n",
       "      <td>82441.239631</td>\n",
       "    </tr>\n",
       "  </tbody>\n",
       "</table>\n",
       "</div>"
      ],
      "text/plain": [
       "   remote_ratio  salary_in_usd\n",
       "0             0  155707.497851\n",
       "2           100  144128.597222\n",
       "1            50   82441.239631"
      ]
     },
     "execution_count": 15,
     "metadata": {},
     "output_type": "execute_result"
    }
   ],
   "source": [
    "#effect of remote work on pay\n",
    "rem=data.groupby('remote_ratio').mean()['salary_in_usd'].reset_index()\n",
    "rem=rem.sort_values('salary_in_usd',ascending=False)\n",
    "rem\n",
    "#plot"
   ]
  },
  {
   "cell_type": "code",
   "execution_count": 16,
   "id": "5f145e6c",
   "metadata": {},
   "outputs": [
    {
     "name": "stderr",
     "output_type": "stream",
     "text": [
      "C:\\Users\\Swati\\AppData\\Local\\Temp\\ipykernel_5140\\828644753.py:2: FutureWarning: The default value of numeric_only in DataFrameGroupBy.mean is deprecated. In a future version, numeric_only will default to False. Either specify numeric_only or select only columns which should be valid for the function.\n",
      "  rem=data.groupby('remote_ratio').mean()['salary_in_usd'].reset_index()\n"
     ]
    },
    {
     "data": {
      "text/plain": [
       "Text(0.5, 0, ' Remote Ratio')"
      ]
     },
     "execution_count": 16,
     "metadata": {},
     "output_type": "execute_result"
    },
    {
     "data": {
      "image/png": "[encoded data removed]",
      "text/plain": [
       "<Figure size 1000x500 with 1 Axes>"
      ]
     },
     "metadata": {},
     "output_type": "display_data"
    }
   ],
   "source": [
    "#effect of remote work on pay\n",
    "rem=data.groupby('remote_ratio').mean()['salary_in_usd'].reset_index()\n",
    "rem=rem.sort_values('salary_in_usd',ascending=False)\n",
    "rem\n",
    "#plot\n",
    "rem.plot(kind='bar',figsize=(10,5),x='remote_ratio',y='salary_in_usd')\n",
    "\n",
    "plt.ylabel('Salary In USD', size=8) \n",
    "plt.xlabel(' Remote Ratio') \n"
   ]
  },
  {
   "cell_type": "code",
   "execution_count": 17,
   "id": "1821e28c",
   "metadata": {},
   "outputs": [
    {
     "name": "stderr",
     "output_type": "stream",
     "text": [
      "C:\\Users\\Swati\\AppData\\Local\\Temp\\ipykernel_5140\\2027377467.py:1: FutureWarning: The default value of numeric_only in DataFrameGroupBy.mean is deprecated. In a future version, numeric_only will default to False. Either specify numeric_only or select only columns which should be valid for the function.\n",
      "  rem=data.groupby('remote_ratio').mean()['salary_in_usd'].reset_index()\n"
     ]
    },
    {
     "data": {
      "text/plain": [
       "Text(0.5, 0, 'Average Pay Per Remote Ratio')"
      ]
     },
     "execution_count": 17,
     "metadata": {},
     "output_type": "execute_result"
    },
    {
     "data": {
      "image/png": "[encoded data removed]",
      "text/plain": [
       "<Figure size 1000x500 with 1 Axes>"
      ]
     },
     "metadata": {},
     "output_type": "display_data"
    }
   ],
   "source": [
    "rem=data.groupby('remote_ratio').mean()['salary_in_usd'].reset_index()\n",
    "rem=rem.sort_values('salary_in_usd',ascending=False)\n",
    "rem\n",
    "#plot\n",
    "rem.plot(kind='pie',figsize=(10,5),x='remote_ratio',y='salary_in_usd',startangle=185,autopct='%1.1f%%')\n",
    "plt.ylabel('Salary In USD', size=8) \n",
    "plt.xlabel('Average Pay Per Remote Ratio') "
   ]
  },
  {
   "cell_type": "code",
   "execution_count": 22,
   "id": "b2ed25fb",
   "metadata": {},
   "outputs": [
    {
     "name": "stdout",
     "output_type": "stream",
     "text": [
      "Remote Work Ratio Distribution:\n",
      "In-office       4885\n",
      "Fully Remote    3168\n",
      "Hybrid           217\n",
      "Name: remote_ratio, dtype: int64\n"
     ]
    }
   ],
   "source": [
    "# Replace specific values in the 'remote_ratio' column\n",
    "data['remote_ratio'] = data['remote_ratio'].replace({0: 'In-office', 50: 'Hybrid', 100: 'Fully Remote'})\n",
    "\n",
    "# Calculate the distribution of values in the 'remote_ratio' column\n",
    "remote_ratio_distribution = data['remote_ratio'].value_counts()\n",
    "\n",
    "# Print the heading for remote work ratio distribution\n",
    "print('Remote Work Ratio Distribution:')\n",
    "\n",
    "# Print the distribution of remote work ratios\n",
    "print(remote_ratio_distribution)"
   ]
  },
  {
   "cell_type": "code",
   "execution_count": 23,
   "id": "9945ec05",
   "metadata": {},
   "outputs": [
    {
     "data": {
      "image/png": "[encoded data removed]",
      "text/plain": [
       "<Figure size 1000x600 with 1 Axes>"
      ]
     },
     "metadata": {},
     "output_type": "display_data"
    }
   ],
   "source": [
    "import seaborn as sns\n",
    "\n",
    "# Reindex the 'remote_ratio_distribution' Series to ensure the desired order of categories: 'In-office', 'Hybrid', 'Fully Remote'\n",
    "remote_ratio_distribution = remote_ratio_distribution.reindex(['In-office', 'Hybrid', 'Fully Remote'])\n",
    "\n",
    "\n",
    "# Create a new figure for the plot with a specific size of 10 inches in width and 6 inches in height\n",
    "plt.figure(figsize=(10, 6))\n",
    "\n",
    "# Generate a bar plot using seaborn's 'barplot' function\n",
    "barplot = sns.barplot(x=remote_ratio_distribution.index, y=remote_ratio_distribution.values, palette='viridis')\n",
    "# The x-axis represents the categories from the 'remote_ratio_distribution' index,\n",
    "# the y-axis represents the count values from the 'remote_ratio_distribution' values,\n",
    "# and the color palette is set to 'viridis'.\n",
    "\n",
    "# Add text annotations to the bars\n",
    "for i, value in enumerate(remote_ratio_distribution.values):\n",
    "    # Iterate over the values in the 'remote_ratio_distribution' values\n",
    "    barplot.text(i, value + 100, f'{value}', ha='center', va='bottom')\n",
    "    # Add text annotations to the bars, displaying the count values just above each bar.\n",
    "\n",
    "# Add a title to the plot as 'Remote Work Ratio Distribution'\n",
    "plt.title('Remote Work Ratio Distribution')\n",
    "\n",
    "# Label the x-axis as 'Remote Work Ratio'\n",
    "plt.xlabel('Remote Work Ratio')\n",
    "\n",
    "# Remove the y-axis label\n",
    "plt.ylabel('')\n",
    "\n",
    "# Remove the y-axis tick labels\n",
    "barplot.set_yticklabels([])\n",
    "\n",
    "# Adjust the y-axis limit to improve the visibility of the bars and annotations\n",
    "plt.ylim(0, remote_ratio_distribution.max() + 500)\n",
    "\n",
    "# Improve the spacing between the elements of the plot\n",
    "plt.tight_layout()\n",
    "\n",
    "# Display the plot\n",
    "plt.show()"
   ]
  },
  {
   "cell_type": "code",
   "execution_count": null,
   "id": "7ade5bb0",
   "metadata": {},
   "outputs": [],
   "source": []
  }
 ],
 "metadata": {
  "kernelspec": {
   "display_name": "Python 3 (ipykernel)",
   "language": "python",
   "name": "python3"
  },
  "language_info": {
   "codemirror_mode": {
    "name": "ipython",
    "version": 3
   },
   "file_extension": ".py",
   "mimetype": "text/x-python",
   "name": "python",
   "nbconvert_exporter": "python",
   "pygments_lexer": "ipython3",
   "version": "3.11.4"
  }
 },
 "nbformat": 4,
 "nbformat_minor": 5
}
